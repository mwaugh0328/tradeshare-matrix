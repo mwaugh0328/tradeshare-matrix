{
 "cells": [
  {
   "cell_type": "code",
   "execution_count": 1,
   "id": "2b0a672e-67b8-44dc-b92b-4f25d5d2306f",
   "metadata": {},
   "outputs": [],
   "source": [
    "import pandas as pd                    # data package\n",
    "import matplotlib.pyplot as plt        # graphics module  \n",
    "import datetime as dt                  # date and time module\n",
    "import numpy as np                     # foundation for pandas "
   ]
  },
  {
   "cell_type": "code",
   "execution_count": 40,
   "id": "91d83e45-993c-4475-9091-242629994f56",
   "metadata": {},
   "outputs": [],
   "source": [
    "data_file = \"./data/Gravity_V202211.csv\" \n",
    "# this is from the CEPII gravity data set \n",
    "# https://www.cepii.fr/DATA_DOWNLOAD/gravity/data/Gravity_csv_V202211.zip\n",
    "#its big, even pandas complains because of the type stuff...I'm just going to grab a couple of things\n",
    "\n",
    "df = pd.read_csv(data_file, usecols = [\"iso3_o\",\"iso3_d\",\"dist\",\"year\",\"fta_wto\",\"contig\"])\n",
    "# these are origin, destinatio, distance, year, if in a trade aggreement, if shared border\n",
    "\n",
    "df = df.loc[df.year == 2014,: ] #match it up with the WIOT \n",
    "\n",
    "# then some cleaning to line it up with what I want"
   ]
  },
  {
   "cell_type": "code",
   "execution_count": 41,
   "id": "769ed8ee-e5ce-46aa-891d-ff1dcc8378e2",
   "metadata": {},
   "outputs": [
    {
     "data": {
      "text/html": [
       "<div>\n",
       "<style scoped>\n",
       "    .dataframe tbody tr th:only-of-type {\n",
       "        vertical-align: middle;\n",
       "    }\n",
       "\n",
       "    .dataframe tbody tr th {\n",
       "        vertical-align: top;\n",
       "    }\n",
       "\n",
       "    .dataframe thead th {\n",
       "        text-align: right;\n",
       "    }\n",
       "</style>\n",
       "<table border=\"1\" class=\"dataframe\">\n",
       "  <thead>\n",
       "    <tr style=\"text-align: right;\">\n",
       "      <th></th>\n",
       "      <th>year</th>\n",
       "      <th>iso3_o</th>\n",
       "      <th>iso3_d</th>\n",
       "      <th>dist</th>\n",
       "      <th>contig</th>\n",
       "      <th>fta_wto</th>\n",
       "    </tr>\n",
       "  </thead>\n",
       "  <tbody>\n",
       "    <tr>\n",
       "      <th>66</th>\n",
       "      <td>2014</td>\n",
       "      <td>ABW</td>\n",
       "      <td>ABW</td>\n",
       "      <td>5.0</td>\n",
       "      <td>0.0</td>\n",
       "      <td>0.0</td>\n",
       "    </tr>\n",
       "    <tr>\n",
       "      <th>140</th>\n",
       "      <td>2014</td>\n",
       "      <td>ABW</td>\n",
       "      <td>AFG</td>\n",
       "      <td>13256.0</td>\n",
       "      <td>0.0</td>\n",
       "      <td>0.0</td>\n",
       "    </tr>\n",
       "    <tr>\n",
       "      <th>214</th>\n",
       "      <td>2014</td>\n",
       "      <td>ABW</td>\n",
       "      <td>AGO</td>\n",
       "      <td>9505.0</td>\n",
       "      <td>0.0</td>\n",
       "      <td>0.0</td>\n",
       "    </tr>\n",
       "    <tr>\n",
       "      <th>288</th>\n",
       "      <td>2014</td>\n",
       "      <td>ABW</td>\n",
       "      <td>AIA</td>\n",
       "      <td>978.0</td>\n",
       "      <td>0.0</td>\n",
       "      <td>0.0</td>\n",
       "    </tr>\n",
       "    <tr>\n",
       "      <th>362</th>\n",
       "      <td>2014</td>\n",
       "      <td>ABW</td>\n",
       "      <td>ALB</td>\n",
       "      <td>9090.0</td>\n",
       "      <td>0.0</td>\n",
       "      <td>0.0</td>\n",
       "    </tr>\n",
       "  </tbody>\n",
       "</table>\n",
       "</div>"
      ],
      "text/plain": [
       "     year iso3_o iso3_d     dist  contig  fta_wto\n",
       "66   2014    ABW    ABW      5.0     0.0      0.0\n",
       "140  2014    ABW    AFG  13256.0     0.0      0.0\n",
       "214  2014    ABW    AGO   9505.0     0.0      0.0\n",
       "288  2014    ABW    AIA    978.0     0.0      0.0\n",
       "362  2014    ABW    ALB   9090.0     0.0      0.0"
      ]
     },
     "execution_count": 41,
     "metadata": {},
     "output_type": "execute_result"
    }
   ],
   "source": [
    "df.head()"
   ]
  },
  {
   "cell_type": "code",
   "execution_count": 42,
   "id": "11952e26-9584-40da-87fa-f632d9d3c6a4",
   "metadata": {},
   "outputs": [],
   "source": [
    "country_list = ['AUS', 'AUT', 'BEL', 'BRA', 'CAN', 'CHE', 'CHN', 'DEU', 'DNK', 'ESP', 'FIN', 'FRA', 'GBR', 'GRC', \n",
    "               'IND', 'IRL', 'ITA', 'JPN', 'KOR', 'MEX', 'NLD', 'NOR', 'PRT', 'SWE', 'TWN', 'USA']"
   ]
  },
  {
   "cell_type": "code",
   "execution_count": 43,
   "id": "aa923d5f-2c38-4be0-9964-25392d28d8cf",
   "metadata": {},
   "outputs": [],
   "source": [
    "condition = df[\"iso3_o\"].isin(country_list)\n",
    "\n",
    "df = df.loc[condition,: ] # take only origins that are in the country list\n",
    "\n",
    "condition = df[\"iso3_d\"].isin(country_list)\n",
    "\n",
    "df = df.loc[condition,: ] # take only destinations that are in the country list\n",
    "\n",
    "df.dropna(inplace = True) # Germany has two entries, presumably bc. of west germany, but they rae nan's remove them"
   ]
  },
  {
   "cell_type": "code",
   "execution_count": 44,
   "id": "33e4870b-1407-4335-a1fb-f9cae541af8e",
   "metadata": {},
   "outputs": [
    {
     "data": {
      "text/plain": [
       "(676, 6)"
      ]
     },
     "execution_count": 44,
     "metadata": {},
     "output_type": "execute_result"
    }
   ],
   "source": [
    "df.shape"
   ]
  },
  {
   "cell_type": "code",
   "execution_count": 51,
   "id": "c45b63a2-ddfe-4d4e-ab7f-a6dd209557ef",
   "metadata": {},
   "outputs": [
    {
     "data": {
      "text/plain": [
       "26"
      ]
     },
     "execution_count": 51,
     "metadata": {},
     "output_type": "execute_result"
    }
   ],
   "source": [
    "len(country_list)*"
   ]
  },
  {
   "cell_type": "code",
   "execution_count": 52,
   "id": "b405e2a0-1c99-4517-b588-83a62bc10b2d",
   "metadata": {},
   "outputs": [
    {
     "data": {
      "text/plain": [
       "676"
      ]
     },
     "execution_count": 52,
     "metadata": {},
     "output_type": "execute_result"
    }
   ],
   "source": [
    "len(country_list)*len(country_list)"
   ]
  },
  {
   "cell_type": "markdown",
   "id": "859e2ae5-5ad4-4740-b694-af5213537f2b",
   "metadata": {},
   "source": [
    "This should be the size of everything, it should match up with the shape of the df above"
   ]
  }
 ],
 "metadata": {
  "kernelspec": {
   "display_name": "Python 3",
   "language": "python",
   "name": "python3"
  },
  "language_info": {
   "codemirror_mode": {
    "name": "ipython",
    "version": 3
   },
   "file_extension": ".py",
   "mimetype": "text/x-python",
   "name": "python",
   "nbconvert_exporter": "python",
   "pygments_lexer": "ipython3",
   "version": "3.8.8"
  }
 },
 "nbformat": 4,
 "nbformat_minor": 5
}
